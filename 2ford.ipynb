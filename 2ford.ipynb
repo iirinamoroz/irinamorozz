{
 "cells": [
  {
   "cell_type": "code",
   "execution_count": 1,
   "id": "05e39055",
   "metadata": {},
   "outputs": [],
   "source": [
    "import numpy as np\n",
    "import matplotlib.pyplot as plt\n",
    "import pandas as pd"
   ]
  },
  {
   "cell_type": "code",
   "execution_count": 2,
   "id": "5ce37fae",
   "metadata": {},
   "outputs": [
    {
     "data": {
      "text/html": [
       "<div>\n",
       "<style scoped>\n",
       "    .dataframe tbody tr th:only-of-type {\n",
       "        vertical-align: middle;\n",
       "    }\n",
       "\n",
       "    .dataframe tbody tr th {\n",
       "        vertical-align: top;\n",
       "    }\n",
       "\n",
       "    .dataframe thead th {\n",
       "        text-align: right;\n",
       "    }\n",
       "</style>\n",
       "<table border=\"1\" class=\"dataframe\">\n",
       "  <thead>\n",
       "    <tr style=\"text-align: right;\">\n",
       "      <th></th>\n",
       "      <th>model</th>\n",
       "      <th>year</th>\n",
       "      <th>price</th>\n",
       "      <th>type</th>\n",
       "      <th>distance</th>\n",
       "      <th>fuel</th>\n",
       "      <th>tax</th>\n",
       "      <th>miles per galoon</th>\n",
       "      <th>size</th>\n",
       "    </tr>\n",
       "  </thead>\n",
       "  <tbody>\n",
       "    <tr>\n",
       "      <th>0</th>\n",
       "      <td>4</td>\n",
       "      <td>2017</td>\n",
       "      <td>12000.0</td>\n",
       "      <td>0</td>\n",
       "      <td>15944.0</td>\n",
       "      <td>2</td>\n",
       "      <td>150</td>\n",
       "      <td>57.7</td>\n",
       "      <td>1.0</td>\n",
       "    </tr>\n",
       "    <tr>\n",
       "      <th>1</th>\n",
       "      <td>5</td>\n",
       "      <td>2015</td>\n",
       "      <td>7830.0</td>\n",
       "      <td>1</td>\n",
       "      <td>50124.0</td>\n",
       "      <td>0</td>\n",
       "      <td>0</td>\n",
       "      <td>74.3</td>\n",
       "      <td>1.5</td>\n",
       "    </tr>\n",
       "    <tr>\n",
       "      <th>2</th>\n",
       "      <td>4</td>\n",
       "      <td>2016</td>\n",
       "      <td>10798.0</td>\n",
       "      <td>1</td>\n",
       "      <td>11843.0</td>\n",
       "      <td>2</td>\n",
       "      <td>0</td>\n",
       "      <td>65.7</td>\n",
       "      <td>1.0</td>\n",
       "    </tr>\n",
       "    <tr>\n",
       "      <th>3</th>\n",
       "      <td>5</td>\n",
       "      <td>2019</td>\n",
       "      <td>15495.0</td>\n",
       "      <td>1</td>\n",
       "      <td>5600.0</td>\n",
       "      <td>2</td>\n",
       "      <td>145</td>\n",
       "      <td>60.1</td>\n",
       "      <td>1.0</td>\n",
       "    </tr>\n",
       "    <tr>\n",
       "      <th>4</th>\n",
       "      <td>0</td>\n",
       "      <td>2013</td>\n",
       "      <td>5698.0</td>\n",
       "      <td>1</td>\n",
       "      <td>44901.0</td>\n",
       "      <td>2</td>\n",
       "      <td>145</td>\n",
       "      <td>47.1</td>\n",
       "      <td>1.4</td>\n",
       "    </tr>\n",
       "    <tr>\n",
       "      <th>...</th>\n",
       "      <td>...</td>\n",
       "      <td>...</td>\n",
       "      <td>...</td>\n",
       "      <td>...</td>\n",
       "      <td>...</td>\n",
       "      <td>...</td>\n",
       "      <td>...</td>\n",
       "      <td>...</td>\n",
       "      <td>...</td>\n",
       "    </tr>\n",
       "    <tr>\n",
       "      <th>372</th>\n",
       "      <td>2</td>\n",
       "      <td>2017</td>\n",
       "      <td>9298.0</td>\n",
       "      <td>1</td>\n",
       "      <td>16770.0</td>\n",
       "      <td>2</td>\n",
       "      <td>145</td>\n",
       "      <td>44.8</td>\n",
       "      <td>1.5</td>\n",
       "    </tr>\n",
       "    <tr>\n",
       "      <th>373</th>\n",
       "      <td>0</td>\n",
       "      <td>2014</td>\n",
       "      <td>7498.0</td>\n",
       "      <td>2</td>\n",
       "      <td>33023.0</td>\n",
       "      <td>2</td>\n",
       "      <td>160</td>\n",
       "      <td>44.1</td>\n",
       "      <td>1.6</td>\n",
       "    </tr>\n",
       "    <tr>\n",
       "      <th>374</th>\n",
       "      <td>4</td>\n",
       "      <td>2019</td>\n",
       "      <td>14698.0</td>\n",
       "      <td>1</td>\n",
       "      <td>8725.0</td>\n",
       "      <td>2</td>\n",
       "      <td>145</td>\n",
       "      <td>58.9</td>\n",
       "      <td>1.0</td>\n",
       "    </tr>\n",
       "    <tr>\n",
       "      <th>375</th>\n",
       "      <td>5</td>\n",
       "      <td>2017</td>\n",
       "      <td>11995.0</td>\n",
       "      <td>1</td>\n",
       "      <td>23469.0</td>\n",
       "      <td>2</td>\n",
       "      <td>125</td>\n",
       "      <td>51.4</td>\n",
       "      <td>1.5</td>\n",
       "    </tr>\n",
       "    <tr>\n",
       "      <th>376</th>\n",
       "      <td>5</td>\n",
       "      <td>2017</td>\n",
       "      <td>15500.0</td>\n",
       "      <td>1</td>\n",
       "      <td>19593.0</td>\n",
       "      <td>2</td>\n",
       "      <td>145</td>\n",
       "      <td>41.5</td>\n",
       "      <td>2.0</td>\n",
       "    </tr>\n",
       "  </tbody>\n",
       "</table>\n",
       "<p>377 rows × 9 columns</p>\n",
       "</div>"
      ],
      "text/plain": [
       "     model  year    price  type  distance  fuel  tax  miles per galoon  size\n",
       "0        4  2017  12000.0     0   15944.0     2  150              57.7   1.0\n",
       "1        5  2015   7830.0     1   50124.0     0    0              74.3   1.5\n",
       "2        4  2016  10798.0     1   11843.0     2    0              65.7   1.0\n",
       "3        5  2019  15495.0     1    5600.0     2  145              60.1   1.0\n",
       "4        0  2013   5698.0     1   44901.0     2  145              47.1   1.4\n",
       "..     ...   ...      ...   ...       ...   ...  ...               ...   ...\n",
       "372      2  2017   9298.0     1   16770.0     2  145              44.8   1.5\n",
       "373      0  2014   7498.0     2   33023.0     2  160              44.1   1.6\n",
       "374      4  2019  14698.0     1    8725.0     2  145              58.9   1.0\n",
       "375      5  2017  11995.0     1   23469.0     2  125              51.4   1.5\n",
       "376      5  2017  15500.0     1   19593.0     2  145              41.5   2.0\n",
       "\n",
       "[377 rows x 9 columns]"
      ]
     },
     "execution_count": 2,
     "metadata": {},
     "output_type": "execute_result"
    }
   ],
   "source": [
    "df = pd.read_csv('ford1.csv', sep=',')\n",
    "df"
   ]
  },
  {
   "cell_type": "code",
   "execution_count": 3,
   "id": "ccc77e2e",
   "metadata": {},
   "outputs": [
    {
     "data": {
      "text/html": [
       "<div>\n",
       "<style scoped>\n",
       "    .dataframe tbody tr th:only-of-type {\n",
       "        vertical-align: middle;\n",
       "    }\n",
       "\n",
       "    .dataframe tbody tr th {\n",
       "        vertical-align: top;\n",
       "    }\n",
       "\n",
       "    .dataframe thead th {\n",
       "        text-align: right;\n",
       "    }\n",
       "</style>\n",
       "<table border=\"1\" class=\"dataframe\">\n",
       "  <thead>\n",
       "    <tr style=\"text-align: right;\">\n",
       "      <th></th>\n",
       "      <th>model</th>\n",
       "      <th>year</th>\n",
       "      <th>type</th>\n",
       "      <th>distance</th>\n",
       "      <th>fuel</th>\n",
       "      <th>tax</th>\n",
       "      <th>miles per galoon</th>\n",
       "      <th>size</th>\n",
       "    </tr>\n",
       "  </thead>\n",
       "  <tbody>\n",
       "    <tr>\n",
       "      <th>0</th>\n",
       "      <td>4</td>\n",
       "      <td>2017</td>\n",
       "      <td>0</td>\n",
       "      <td>15944.0</td>\n",
       "      <td>2</td>\n",
       "      <td>150</td>\n",
       "      <td>57.7</td>\n",
       "      <td>1.0</td>\n",
       "    </tr>\n",
       "    <tr>\n",
       "      <th>1</th>\n",
       "      <td>5</td>\n",
       "      <td>2015</td>\n",
       "      <td>1</td>\n",
       "      <td>50124.0</td>\n",
       "      <td>0</td>\n",
       "      <td>0</td>\n",
       "      <td>74.3</td>\n",
       "      <td>1.5</td>\n",
       "    </tr>\n",
       "    <tr>\n",
       "      <th>2</th>\n",
       "      <td>4</td>\n",
       "      <td>2016</td>\n",
       "      <td>1</td>\n",
       "      <td>11843.0</td>\n",
       "      <td>2</td>\n",
       "      <td>0</td>\n",
       "      <td>65.7</td>\n",
       "      <td>1.0</td>\n",
       "    </tr>\n",
       "    <tr>\n",
       "      <th>3</th>\n",
       "      <td>5</td>\n",
       "      <td>2019</td>\n",
       "      <td>1</td>\n",
       "      <td>5600.0</td>\n",
       "      <td>2</td>\n",
       "      <td>145</td>\n",
       "      <td>60.1</td>\n",
       "      <td>1.0</td>\n",
       "    </tr>\n",
       "    <tr>\n",
       "      <th>4</th>\n",
       "      <td>0</td>\n",
       "      <td>2013</td>\n",
       "      <td>1</td>\n",
       "      <td>44901.0</td>\n",
       "      <td>2</td>\n",
       "      <td>145</td>\n",
       "      <td>47.1</td>\n",
       "      <td>1.4</td>\n",
       "    </tr>\n",
       "    <tr>\n",
       "      <th>...</th>\n",
       "      <td>...</td>\n",
       "      <td>...</td>\n",
       "      <td>...</td>\n",
       "      <td>...</td>\n",
       "      <td>...</td>\n",
       "      <td>...</td>\n",
       "      <td>...</td>\n",
       "      <td>...</td>\n",
       "    </tr>\n",
       "    <tr>\n",
       "      <th>372</th>\n",
       "      <td>2</td>\n",
       "      <td>2017</td>\n",
       "      <td>1</td>\n",
       "      <td>16770.0</td>\n",
       "      <td>2</td>\n",
       "      <td>145</td>\n",
       "      <td>44.8</td>\n",
       "      <td>1.5</td>\n",
       "    </tr>\n",
       "    <tr>\n",
       "      <th>373</th>\n",
       "      <td>0</td>\n",
       "      <td>2014</td>\n",
       "      <td>2</td>\n",
       "      <td>33023.0</td>\n",
       "      <td>2</td>\n",
       "      <td>160</td>\n",
       "      <td>44.1</td>\n",
       "      <td>1.6</td>\n",
       "    </tr>\n",
       "    <tr>\n",
       "      <th>374</th>\n",
       "      <td>4</td>\n",
       "      <td>2019</td>\n",
       "      <td>1</td>\n",
       "      <td>8725.0</td>\n",
       "      <td>2</td>\n",
       "      <td>145</td>\n",
       "      <td>58.9</td>\n",
       "      <td>1.0</td>\n",
       "    </tr>\n",
       "    <tr>\n",
       "      <th>375</th>\n",
       "      <td>5</td>\n",
       "      <td>2017</td>\n",
       "      <td>1</td>\n",
       "      <td>23469.0</td>\n",
       "      <td>2</td>\n",
       "      <td>125</td>\n",
       "      <td>51.4</td>\n",
       "      <td>1.5</td>\n",
       "    </tr>\n",
       "    <tr>\n",
       "      <th>376</th>\n",
       "      <td>5</td>\n",
       "      <td>2017</td>\n",
       "      <td>1</td>\n",
       "      <td>19593.0</td>\n",
       "      <td>2</td>\n",
       "      <td>145</td>\n",
       "      <td>41.5</td>\n",
       "      <td>2.0</td>\n",
       "    </tr>\n",
       "  </tbody>\n",
       "</table>\n",
       "<p>377 rows × 8 columns</p>\n",
       "</div>"
      ],
      "text/plain": [
       "     model  year  type  distance  fuel  tax  miles per galoon  size\n",
       "0        4  2017     0   15944.0     2  150              57.7   1.0\n",
       "1        5  2015     1   50124.0     0    0              74.3   1.5\n",
       "2        4  2016     1   11843.0     2    0              65.7   1.0\n",
       "3        5  2019     1    5600.0     2  145              60.1   1.0\n",
       "4        0  2013     1   44901.0     2  145              47.1   1.4\n",
       "..     ...   ...   ...       ...   ...  ...               ...   ...\n",
       "372      2  2017     1   16770.0     2  145              44.8   1.5\n",
       "373      0  2014     2   33023.0     2  160              44.1   1.6\n",
       "374      4  2019     1    8725.0     2  145              58.9   1.0\n",
       "375      5  2017     1   23469.0     2  125              51.4   1.5\n",
       "376      5  2017     1   19593.0     2  145              41.5   2.0\n",
       "\n",
       "[377 rows x 8 columns]"
      ]
     },
     "execution_count": 3,
     "metadata": {},
     "output_type": "execute_result"
    }
   ],
   "source": [
    "X = df.iloc[:, [True,True,False,True,True,True,True,True,True]]\n",
    "y = df['price']\n",
    "from sklearn.model_selection import train_test_split\n",
    "X_train, X_test, y_train, y_test = train_test_split(X, y, test_size=0.2, random_state=10)\n",
    "X"
   ]
  },
  {
   "cell_type": "code",
   "execution_count": 4,
   "id": "24ab333b",
   "metadata": {},
   "outputs": [
    {
     "data": {
      "text/plain": [
       "(array([1667.09505857]), -3349867.5844944594)"
      ]
     },
     "execution_count": 4,
     "metadata": {},
     "output_type": "execute_result"
    }
   ],
   "source": [
    "f1 = ['year']\n",
    "\n",
    "from sklearn.linear_model import LinearRegression\n",
    "sr = LinearRegression().fit(X_train[f1], y_train)\n",
    "\n",
    "sr.coef_, sr.intercept_"
   ]
  },
  {
   "cell_type": "markdown",
   "id": "877e55b0",
   "metadata": {},
   "source": [
    "Линейная регрессия имеет вид Цена = 1667.09505857*Год-3349867.5844944594"
   ]
  },
  {
   "cell_type": "code",
   "execution_count": 5,
   "id": "249a24e2",
   "metadata": {},
   "outputs": [
    {
     "data": {
      "text/plain": [
       "(0.399, 0.351)"
      ]
     },
     "execution_count": 5,
     "metadata": {},
     "output_type": "execute_result"
    }
   ],
   "source": [
    "y_pred = sr.predict(X_test[f1])\n",
    "sr.score(X_train[f1], y_train).round(3), sr.score(X_test[f1], y_test).round(3)"
   ]
  },
  {
   "cell_type": "code",
   "execution_count": 6,
   "id": "420aa711",
   "metadata": {},
   "outputs": [
    {
     "data": {
      "text/plain": [
       "(3251.67, 3263.96)"
      ]
     },
     "execution_count": 6,
     "metadata": {},
     "output_type": "execute_result"
    }
   ],
   "source": [
    "from sklearn.metrics import mean_squared_error\n",
    "mean_squared_error(y_train, sr.predict(X_train[f1]), squared=False).round(2), mean_squared_error(y_test, y_pred, squared=False).round(2)"
   ]
  },
  {
   "cell_type": "code",
   "execution_count": 7,
   "id": "9a3db3a2",
   "metadata": {},
   "outputs": [
    {
     "data": {
      "image/png": "[encoded data removed]",
      "text/plain": [
       "<Figure size 432x288 with 1 Axes>"
      ]
     },
     "metadata": {
      "needs_background": "light"
     },
     "output_type": "display_data"
    }
   ],
   "source": [
    "plt.scatter(X_test['year'], y_test, color = 'red')\n",
    "plt.plot(X_test['year'], sr.predict(X_test[f1]), 'bo')\n",
    "plt.title('Price & Year (Test set)')\n",
    "plt.xlabel('Year')\n",
    "plt.ylabel('Price')\n",
    "plt.show()"
   ]
  },
  {
   "cell_type": "markdown",
   "id": "035edd44",
   "metadata": {},
   "source": [
    "График показал, чем моложе автомобиль, тем выше его цена"
   ]
  },
  {
   "cell_type": "code",
   "execution_count": 8,
   "id": "e2af0b34",
   "metadata": {},
   "outputs": [
    {
     "data": {
      "text/plain": [
       "0.76"
      ]
     },
     "execution_count": 8,
     "metadata": {},
     "output_type": "execute_result"
    }
   ],
   "source": [
    "mr = LinearRegression().fit(X_train, y_train)\n",
    "mr.score(X_train, y_train).round(3)"
   ]
  },
  {
   "cell_type": "markdown",
   "id": "4b423fd6",
   "metadata": {},
   "source": [
    "Коэффициент регрессии = 0.76"
   ]
  },
  {
   "cell_type": "code",
   "execution_count": 9,
   "id": "ef2e5951",
   "metadata": {},
   "outputs": [
    {
     "data": {
      "image/png": "[encoded data removed]",
      "text/plain": [
       "<Figure size 432x288 with 1 Axes>"
      ]
     },
     "metadata": {
      "needs_background": "light"
     },
     "output_type": "display_data"
    }
   ],
   "source": [
    "# Visualising the Test set results\n",
    "plt.scatter(X_test['year'], y_test, color = 'red')\n",
    "plt.plot(X_test['year'], mr.predict(X_test), 'bo')\n",
    "plt.title('Price & Year')\n",
    "plt.xlabel('Year')\n",
    "plt.ylabel('Price')\n",
    "plt.show()"
   ]
  },
  {
   "cell_type": "code",
   "execution_count": 10,
   "id": "4d0812f7",
   "metadata": {},
   "outputs": [
    {
     "data": {
      "text/html": [
       "<table class=\"simpletable\">\n",
       "<caption>OLS Regression Results</caption>\n",
       "<tr>\n",
       "  <th>Dep. Variable:</th>          <td>price</td>      <th>  R-squared:         </th> <td>   0.760</td>\n",
       "</tr>\n",
       "<tr>\n",
       "  <th>Model:</th>                   <td>OLS</td>       <th>  Adj. R-squared:    </th> <td>   0.753</td>\n",
       "</tr>\n",
       "<tr>\n",
       "  <th>Method:</th>             <td>Least Squares</td>  <th>  F-statistic:       </th> <td>   115.3</td>\n",
       "</tr>\n",
       "<tr>\n",
       "  <th>Date:</th>             <td>Tue, 28 Dec 2021</td> <th>  Prob (F-statistic):</th> <td>9.69e-86</td>\n",
       "</tr>\n",
       "<tr>\n",
       "  <th>Time:</th>                 <td>01:53:15</td>     <th>  Log-Likelihood:    </th> <td> -2723.2</td>\n",
       "</tr>\n",
       "<tr>\n",
       "  <th>No. Observations:</th>      <td>   301</td>      <th>  AIC:               </th> <td>   5464.</td>\n",
       "</tr>\n",
       "<tr>\n",
       "  <th>Df Residuals:</th>          <td>   292</td>      <th>  BIC:               </th> <td>   5498.</td>\n",
       "</tr>\n",
       "<tr>\n",
       "  <th>Df Model:</th>              <td>     8</td>      <th>                     </th>     <td> </td>   \n",
       "</tr>\n",
       "<tr>\n",
       "  <th>Covariance Type:</th>      <td>nonrobust</td>    <th>                     </th>     <td> </td>   \n",
       "</tr>\n",
       "</table>\n",
       "<table class=\"simpletable\">\n",
       "<tr>\n",
       "          <td></td>            <th>coef</th>     <th>std err</th>      <th>t</th>      <th>P>|t|</th>  <th>[0.025</th>    <th>0.975]</th>  \n",
       "</tr>\n",
       "<tr>\n",
       "  <th>const</th>            <td>-2.929e+06</td> <td> 2.32e+05</td> <td>  -12.640</td> <td> 0.000</td> <td>-3.39e+06</td> <td>-2.47e+06</td>\n",
       "</tr>\n",
       "<tr>\n",
       "  <th>model</th>            <td>  107.4171</td> <td>   43.298</td> <td>    2.481</td> <td> 0.014</td> <td>   22.201</td> <td>  192.633</td>\n",
       "</tr>\n",
       "<tr>\n",
       "  <th>year</th>             <td> 1457.3157</td> <td>  114.716</td> <td>   12.704</td> <td> 0.000</td> <td> 1231.540</td> <td> 1683.091</td>\n",
       "</tr>\n",
       "<tr>\n",
       "  <th>type</th>             <td> -175.3098</td> <td>  354.915</td> <td>   -0.494</td> <td> 0.622</td> <td> -873.825</td> <td>  523.206</td>\n",
       "</tr>\n",
       "<tr>\n",
       "  <th>distance</th>         <td>   -0.0690</td> <td>    0.011</td> <td>   -6.005</td> <td> 0.000</td> <td>   -0.092</td> <td>   -0.046</td>\n",
       "</tr>\n",
       "<tr>\n",
       "  <th>fuel</th>             <td>  -21.9925</td> <td>  298.910</td> <td>   -0.074</td> <td> 0.941</td> <td> -610.284</td> <td>  566.299</td>\n",
       "</tr>\n",
       "<tr>\n",
       "  <th>tax</th>              <td>   -2.0368</td> <td>    2.837</td> <td>   -0.718</td> <td> 0.473</td> <td>   -7.619</td> <td>    3.546</td>\n",
       "</tr>\n",
       "<tr>\n",
       "  <th>miles per galoon</th> <td>  -57.6103</td> <td>   22.748</td> <td>   -2.533</td> <td> 0.012</td> <td> -102.381</td> <td>  -12.839</td>\n",
       "</tr>\n",
       "<tr>\n",
       "  <th>size</th>             <td> 5215.0317</td> <td>  681.448</td> <td>    7.653</td> <td> 0.000</td> <td> 3873.860</td> <td> 6556.203</td>\n",
       "</tr>\n",
       "</table>\n",
       "<table class=\"simpletable\">\n",
       "<tr>\n",
       "  <th>Omnibus:</th>       <td>28.283</td> <th>  Durbin-Watson:     </th> <td>   1.948</td>\n",
       "</tr>\n",
       "<tr>\n",
       "  <th>Prob(Omnibus):</th> <td> 0.000</td> <th>  Jarque-Bera (JB):  </th> <td>  65.693</td>\n",
       "</tr>\n",
       "<tr>\n",
       "  <th>Skew:</th>          <td>-0.454</td> <th>  Prob(JB):          </th> <td>5.43e-15</td>\n",
       "</tr>\n",
       "<tr>\n",
       "  <th>Kurtosis:</th>      <td> 5.101</td> <th>  Cond. No.          </th> <td>4.85e+07</td>\n",
       "</tr>\n",
       "</table><br/><br/>Notes:<br/>[1] Standard Errors assume that the covariance matrix of the errors is correctly specified.<br/>[2] The condition number is large, 4.85e+07. This might indicate that there are<br/>strong multicollinearity or other numerical problems."
      ],
      "text/plain": [
       "<class 'statsmodels.iolib.summary.Summary'>\n",
       "\"\"\"\n",
       "                            OLS Regression Results                            \n",
       "==============================================================================\n",
       "Dep. Variable:                  price   R-squared:                       0.760\n",
       "Model:                            OLS   Adj. R-squared:                  0.753\n",
       "Method:                 Least Squares   F-statistic:                     115.3\n",
       "Date:                Tue, 28 Dec 2021   Prob (F-statistic):           9.69e-86\n",
       "Time:                        01:53:15   Log-Likelihood:                -2723.2\n",
       "No. Observations:                 301   AIC:                             5464.\n",
       "Df Residuals:                     292   BIC:                             5498.\n",
       "Df Model:                           8                                         \n",
       "Covariance Type:            nonrobust                                         \n",
       "====================================================================================\n",
       "                       coef    std err          t      P>|t|      [0.025      0.975]\n",
       "------------------------------------------------------------------------------------\n",
       "const            -2.929e+06   2.32e+05    -12.640      0.000   -3.39e+06   -2.47e+06\n",
       "model              107.4171     43.298      2.481      0.014      22.201     192.633\n",
       "year              1457.3157    114.716     12.704      0.000    1231.540    1683.091\n",
       "type              -175.3098    354.915     -0.494      0.622    -873.825     523.206\n",
       "distance            -0.0690      0.011     -6.005      0.000      -0.092      -0.046\n",
       "fuel               -21.9925    298.910     -0.074      0.941    -610.284     566.299\n",
       "tax                 -2.0368      2.837     -0.718      0.473      -7.619       3.546\n",
       "miles per galoon   -57.6103     22.748     -2.533      0.012    -102.381     -12.839\n",
       "size              5215.0317    681.448      7.653      0.000    3873.860    6556.203\n",
       "==============================================================================\n",
       "Omnibus:                       28.283   Durbin-Watson:                   1.948\n",
       "Prob(Omnibus):                  0.000   Jarque-Bera (JB):               65.693\n",
       "Skew:                          -0.454   Prob(JB):                     5.43e-15\n",
       "Kurtosis:                       5.101   Cond. No.                     4.85e+07\n",
       "==============================================================================\n",
       "\n",
       "Notes:\n",
       "[1] Standard Errors assume that the covariance matrix of the errors is correctly specified.\n",
       "[2] The condition number is large, 4.85e+07. This might indicate that there are\n",
       "strong multicollinearity or other numerical problems.\n",
       "\"\"\""
      ]
     },
     "execution_count": 10,
     "metadata": {},
     "output_type": "execute_result"
    }
   ],
   "source": [
    "# Checking p-values\n",
    "import statsmodels.api as sm\n",
    "X1 = sm.add_constant(X_train)\n",
    "mr1 = sm.OLS(y_train, X1).fit()\n",
    "#mr1.pvalues\n",
    "mr1.summary()"
   ]
  },
  {
   "cell_type": "code",
   "execution_count": 11,
   "id": "8a850cc1",
   "metadata": {},
   "outputs": [
    {
     "data": {
      "text/plain": [
       "(array([-1.00117747e+08, -1.22346316e+05, -7.95978238e+04,  4.84416215e+05,\n",
       "         6.00681804e+01,  3.56349077e+05, -1.63734988e+04, -7.09577141e+04,\n",
       "         1.57559700e+06,  1.14669105e+01,  6.21959479e+01,  3.03585800e+02,\n",
       "         1.96427392e-04, -3.09400063e+02, -2.98400859e+00, -3.28719233e+01,\n",
       "        -6.75900200e+02,  1.97794227e+01, -2.36516122e+02, -2.99469958e-02,\n",
       "        -1.65809550e+02,  8.14521473e+00,  3.61775335e+01, -7.78754600e+02,\n",
       "         1.00828709e+03, -2.64278437e-02, -1.05112055e+03, -1.64103979e+00,\n",
       "        -7.56884918e+01, -4.29488909e+03, -1.82312215e-06,  3.22251027e-02,\n",
       "         1.42946034e-04,  3.71503721e-03,  8.29121343e-02, -2.90683274e+03,\n",
       "         2.62938316e+00, -2.09963687e+02, -2.45902590e+03, -1.59046600e-01,\n",
       "        -7.11248073e-01,  2.11030319e+01, -7.08555684e+00, -5.20524178e+02,\n",
       "         1.12282353e+04]),\n",
       " 180128382.0997998)"
      ]
     },
     "execution_count": 11,
     "metadata": {},
     "output_type": "execute_result"
    }
   ],
   "source": [
    "# Fitting Polynomial Regression to the dataset\n",
    "from sklearn.preprocessing import PolynomialFeatures\n",
    "X_train_p = PolynomialFeatures().fit_transform(X_train)\n",
    "X_test_p = PolynomialFeatures().fit_transform(X_test)\n",
    "\n",
    "pr = LinearRegression().fit(X_train_p, y_train)\n",
    "\n",
    "# Getting parameters\n",
    "pr.coef_, pr.intercept_"
   ]
  },
  {
   "cell_type": "code",
   "execution_count": 12,
   "id": "05f99197",
   "metadata": {},
   "outputs": [
    {
     "data": {
      "text/plain": [
       "0.825"
      ]
     },
     "execution_count": 12,
     "metadata": {},
     "output_type": "execute_result"
    }
   ],
   "source": [
    "# Predicting the Test set results\n",
    "y_pred = pr.predict(X_test_p)\n",
    "\n",
    "# Coefficient of determination R^2\n",
    "pr.score(X_train_p, y_train).round(3)"
   ]
  },
  {
   "cell_type": "markdown",
   "id": "bec18439",
   "metadata": {},
   "source": [
    "R^2 лучше для множественной линейной регресси."
   ]
  },
  {
   "cell_type": "code",
   "execution_count": 13,
   "id": "5b5e8728",
   "metadata": {},
   "outputs": [
    {
     "data": {
      "text/plain": [
       "(1755.73, 1853.29)"
      ]
     },
     "execution_count": 13,
     "metadata": {},
     "output_type": "execute_result"
    }
   ],
   "source": [
    "# Mean squared error\n",
    "mean_squared_error(y_train, pr.predict(X_train_p), squared=False).round(2), mean_squared_error(y_test, y_pred, squared=False).round(2)"
   ]
  },
  {
   "cell_type": "code",
   "execution_count": 14,
   "id": "38660284",
   "metadata": {},
   "outputs": [
    {
     "data": {
      "image/png": "[encoded data removed]",
      "text/plain": [
       "<Figure size 432x288 with 1 Axes>"
      ]
     },
     "metadata": {
      "needs_background": "light"
     },
     "output_type": "display_data"
    }
   ],
   "source": [
    "# Visualising the Test set results\n",
    "plt.scatter(X_test['year'], y_test, color = 'red')\n",
    "plt.plot(X_test['year'], pr.predict(X_test_p), 'bo')\n",
    "plt.title('Price vs year (Test set)')\n",
    "plt.xlabel('year')\n",
    "plt.ylabel('Price')\n",
    "plt.show()\n"
   ]
  },
  {
   "cell_type": "code",
   "execution_count": 15,
   "id": "2aa2bf37",
   "metadata": {},
   "outputs": [],
   "source": [
    "import pickle\n",
    "obj = {'X_train': X_train, 'X_test': X_test,'y_train': y_train,'y_test': y_test}\n",
    "output = open('ford2.pkl', 'wb')\n",
    "pickle.dump(obj, output, 2)\n",
    "output.close()"
   ]
  },
  {
   "cell_type": "code",
   "execution_count": null,
   "id": "0f8dfcc0",
   "metadata": {},
   "outputs": [],
   "source": []
  }
 ],
 "metadata": {
  "kernelspec": {
   "display_name": "Python 3",
   "language": "python",
   "name": "python3"
  },
  "language_info": {
   "codemirror_mode": {
    "name": "ipython",
    "version": 3
   },
   "file_extension": ".py",
   "mimetype": "text/x-python",
   "name": "python",
   "nbconvert_exporter": "python",
   "pygments_lexer": "ipython3",
   "version": "3.8.8"
  }
 },
 "nbformat": 4,
 "nbformat_minor": 5
}
