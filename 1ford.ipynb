{
 "cells": [
  {
   "cell_type": "code",
   "execution_count": 2,
   "id": "eaed194b",
   "metadata": {},
   "outputs": [],
   "source": [
    "import pandas as pd\n",
    "import numpy as np\n",
    "\n",
    "%matplotlib inline\n",
    "import matplotlib\n",
    "import matplotlib.pyplot as plt\n",
    "import seaborn as sns\n",
    "\n",
    "import zipfile\n",
    "\n",
    "import os\n",
    "from sklearn.model_selection import train_test_split \n",
    "\n",
    "for dirname, _, filenames in os.walk('ford_price(2020) data.csv'):\n",
    "    for filename in filenames:\n",
    "        print(os.path.join(dirname, filename))"
   ]
  },
  {
   "cell_type": "code",
   "execution_count": 3,
   "id": "db3d73c2",
   "metadata": {},
   "outputs": [
    {
     "data": {
      "text/html": [
       "<div>\n",
       "<style scoped>\n",
       "    .dataframe tbody tr th:only-of-type {\n",
       "        vertical-align: middle;\n",
       "    }\n",
       "\n",
       "    .dataframe tbody tr th {\n",
       "        vertical-align: top;\n",
       "    }\n",
       "\n",
       "    .dataframe thead th {\n",
       "        text-align: right;\n",
       "    }\n",
       "</style>\n",
       "<table border=\"1\" class=\"dataframe\">\n",
       "  <thead>\n",
       "    <tr style=\"text-align: right;\">\n",
       "      <th></th>\n",
       "      <th>model</th>\n",
       "      <th>year</th>\n",
       "      <th>price</th>\n",
       "      <th>type</th>\n",
       "      <th>distance</th>\n",
       "      <th>fuel</th>\n",
       "      <th>tax</th>\n",
       "      <th>miles per galoon</th>\n",
       "      <th>size</th>\n",
       "    </tr>\n",
       "  </thead>\n",
       "  <tbody>\n",
       "    <tr>\n",
       "      <th>0</th>\n",
       "      <td>Fiesta</td>\n",
       "      <td>2017</td>\n",
       "      <td>12000</td>\n",
       "      <td>Automatic</td>\n",
       "      <td>15944</td>\n",
       "      <td>Petrol</td>\n",
       "      <td>150</td>\n",
       "      <td>57.7</td>\n",
       "      <td>1.0</td>\n",
       "    </tr>\n",
       "    <tr>\n",
       "      <th>1</th>\n",
       "      <td>Focus</td>\n",
       "      <td>2015</td>\n",
       "      <td>7830</td>\n",
       "      <td>Manual</td>\n",
       "      <td>50124</td>\n",
       "      <td>Diesel</td>\n",
       "      <td>0</td>\n",
       "      <td>74.3</td>\n",
       "      <td>1.5</td>\n",
       "    </tr>\n",
       "    <tr>\n",
       "      <th>2</th>\n",
       "      <td>Fiesta</td>\n",
       "      <td>2016</td>\n",
       "      <td>10798</td>\n",
       "      <td>Manual</td>\n",
       "      <td>11843</td>\n",
       "      <td>Petrol</td>\n",
       "      <td>0</td>\n",
       "      <td>65.7</td>\n",
       "      <td>1.0</td>\n",
       "    </tr>\n",
       "    <tr>\n",
       "      <th>3</th>\n",
       "      <td>Focus</td>\n",
       "      <td>2019</td>\n",
       "      <td>15495</td>\n",
       "      <td>Manual</td>\n",
       "      <td>5600</td>\n",
       "      <td>Petrol</td>\n",
       "      <td>145</td>\n",
       "      <td>60.1</td>\n",
       "      <td>1.0</td>\n",
       "    </tr>\n",
       "    <tr>\n",
       "      <th>4</th>\n",
       "      <td>B-MAX</td>\n",
       "      <td>2013</td>\n",
       "      <td>5698</td>\n",
       "      <td>Manual</td>\n",
       "      <td>44901</td>\n",
       "      <td>Petrol</td>\n",
       "      <td>145</td>\n",
       "      <td>47.1</td>\n",
       "      <td>1.4</td>\n",
       "    </tr>\n",
       "    <tr>\n",
       "      <th>...</th>\n",
       "      <td>...</td>\n",
       "      <td>...</td>\n",
       "      <td>...</td>\n",
       "      <td>...</td>\n",
       "      <td>...</td>\n",
       "      <td>...</td>\n",
       "      <td>...</td>\n",
       "      <td>...</td>\n",
       "      <td>...</td>\n",
       "    </tr>\n",
       "    <tr>\n",
       "      <th>372</th>\n",
       "      <td>EcoSport</td>\n",
       "      <td>2017</td>\n",
       "      <td>9298</td>\n",
       "      <td>Manual</td>\n",
       "      <td>16770</td>\n",
       "      <td>Petrol</td>\n",
       "      <td>145</td>\n",
       "      <td>44.8</td>\n",
       "      <td>1.5</td>\n",
       "    </tr>\n",
       "    <tr>\n",
       "      <th>373</th>\n",
       "      <td>B-MAX</td>\n",
       "      <td>2014</td>\n",
       "      <td>7498</td>\n",
       "      <td>Semi-Auto</td>\n",
       "      <td>33023</td>\n",
       "      <td>Petrol</td>\n",
       "      <td>160</td>\n",
       "      <td>44.1</td>\n",
       "      <td>1.6</td>\n",
       "    </tr>\n",
       "    <tr>\n",
       "      <th>374</th>\n",
       "      <td>Fiesta</td>\n",
       "      <td>2019</td>\n",
       "      <td>14698</td>\n",
       "      <td>Manual</td>\n",
       "      <td>8725</td>\n",
       "      <td>Petrol</td>\n",
       "      <td>145</td>\n",
       "      <td>58.9</td>\n",
       "      <td>1.0</td>\n",
       "    </tr>\n",
       "    <tr>\n",
       "      <th>375</th>\n",
       "      <td>Focus</td>\n",
       "      <td>2017</td>\n",
       "      <td>11995</td>\n",
       "      <td>Manual</td>\n",
       "      <td>23469</td>\n",
       "      <td>Petrol</td>\n",
       "      <td>125</td>\n",
       "      <td>51.4</td>\n",
       "      <td>1.5</td>\n",
       "    </tr>\n",
       "    <tr>\n",
       "      <th>376</th>\n",
       "      <td>Focus</td>\n",
       "      <td>2017</td>\n",
       "      <td>15500</td>\n",
       "      <td>Manual</td>\n",
       "      <td>19593</td>\n",
       "      <td>Petrol</td>\n",
       "      <td>145</td>\n",
       "      <td>41.5</td>\n",
       "      <td>2.0</td>\n",
       "    </tr>\n",
       "  </tbody>\n",
       "</table>\n",
       "<p>377 rows × 9 columns</p>\n",
       "</div>"
      ],
      "text/plain": [
       "        model  year  price       type  distance    fuel  tax  \\\n",
       "0      Fiesta  2017  12000  Automatic     15944  Petrol  150   \n",
       "1       Focus  2015   7830     Manual     50124  Diesel    0   \n",
       "2      Fiesta  2016  10798     Manual     11843  Petrol    0   \n",
       "3       Focus  2019  15495     Manual      5600  Petrol  145   \n",
       "4       B-MAX  2013   5698     Manual     44901  Petrol  145   \n",
       "..        ...   ...    ...        ...       ...     ...  ...   \n",
       "372  EcoSport  2017   9298     Manual     16770  Petrol  145   \n",
       "373     B-MAX  2014   7498  Semi-Auto     33023  Petrol  160   \n",
       "374    Fiesta  2019  14698     Manual      8725  Petrol  145   \n",
       "375     Focus  2017  11995     Manual     23469  Petrol  125   \n",
       "376     Focus  2017  15500     Manual     19593  Petrol  145   \n",
       "\n",
       "     miles per galoon  size  \n",
       "0                57.7   1.0  \n",
       "1                74.3   1.5  \n",
       "2                65.7   1.0  \n",
       "3                60.1   1.0  \n",
       "4                47.1   1.4  \n",
       "..                ...   ...  \n",
       "372              44.8   1.5  \n",
       "373              44.1   1.6  \n",
       "374              58.9   1.0  \n",
       "375              51.4   1.5  \n",
       "376              41.5   2.0  \n",
       "\n",
       "[377 rows x 9 columns]"
      ]
     },
     "execution_count": 3,
     "metadata": {},
     "output_type": "execute_result"
    }
   ],
   "source": [
    "df = pd.read_excel('Ford.xlsx', sheet_name='Ford')\n",
    "df"
   ]
  },
  {
   "cell_type": "code",
   "execution_count": 4,
   "id": "4c7fe6ef",
   "metadata": {},
   "outputs": [
    {
     "name": "stdout",
     "output_type": "stream",
     "text": [
      "<class 'pandas.core.frame.DataFrame'>\n",
      "RangeIndex: 377 entries, 0 to 376\n",
      "Data columns (total 9 columns):\n",
      " #   Column            Non-Null Count  Dtype  \n",
      "---  ------            --------------  -----  \n",
      " 0   model             377 non-null    object \n",
      " 1   year              377 non-null    int64  \n",
      " 2   price             377 non-null    int64  \n",
      " 3   type              377 non-null    object \n",
      " 4   distance          377 non-null    int64  \n",
      " 5   fuel              377 non-null    object \n",
      " 6   tax               377 non-null    int64  \n",
      " 7   miles per galoon  377 non-null    float64\n",
      " 8   size              377 non-null    float64\n",
      "dtypes: float64(2), int64(4), object(3)\n",
      "memory usage: 26.6+ KB\n"
     ]
    }
   ],
   "source": [
    "df.info()"
   ]
  },
  {
   "cell_type": "markdown",
   "id": "d9e0a39b",
   "metadata": {},
   "source": [
    "В датасет нет пропущенных знaчений"
   ]
  },
  {
   "cell_type": "code",
   "execution_count": 5,
   "id": "505f1bfb",
   "metadata": {},
   "outputs": [
    {
     "data": {
      "text/plain": [
       "model               0\n",
       "year                0\n",
       "price               0\n",
       "type                0\n",
       "distance            0\n",
       "fuel                0\n",
       "tax                 0\n",
       "miles per galoon    0\n",
       "size                0\n",
       "dtype: int64"
      ]
     },
     "execution_count": 5,
     "metadata": {},
     "output_type": "execute_result"
    }
   ],
   "source": [
    "df.isnull().sum()"
   ]
  },
  {
   "cell_type": "code",
   "execution_count": 6,
   "id": "471f7064",
   "metadata": {},
   "outputs": [
    {
     "data": {
      "text/plain": [
       "model                object\n",
       "year                  int64\n",
       "price                 int64\n",
       "type                 object\n",
       "distance              int64\n",
       "fuel                 object\n",
       "tax                   int64\n",
       "miles per galoon    float64\n",
       "size                float64\n",
       "dtype: object"
      ]
     },
     "execution_count": 6,
     "metadata": {},
     "output_type": "execute_result"
    }
   ],
   "source": [
    "df.dtypes"
   ]
  },
  {
   "cell_type": "code",
   "execution_count": 7,
   "id": "8d05b648",
   "metadata": {},
   "outputs": [
    {
     "data": {
      "text/html": [
       "<div>\n",
       "<style scoped>\n",
       "    .dataframe tbody tr th:only-of-type {\n",
       "        vertical-align: middle;\n",
       "    }\n",
       "\n",
       "    .dataframe tbody tr th {\n",
       "        vertical-align: top;\n",
       "    }\n",
       "\n",
       "    .dataframe thead th {\n",
       "        text-align: right;\n",
       "    }\n",
       "</style>\n",
       "<table border=\"1\" class=\"dataframe\">\n",
       "  <thead>\n",
       "    <tr style=\"text-align: right;\">\n",
       "      <th></th>\n",
       "      <th>year</th>\n",
       "      <th>price</th>\n",
       "      <th>distance</th>\n",
       "      <th>tax</th>\n",
       "      <th>miles per galoon</th>\n",
       "      <th>size</th>\n",
       "    </tr>\n",
       "  </thead>\n",
       "  <tbody>\n",
       "    <tr>\n",
       "      <th>count</th>\n",
       "      <td>377.000000</td>\n",
       "      <td>377.000000</td>\n",
       "      <td>377.000000</td>\n",
       "      <td>377.00000</td>\n",
       "      <td>377.000000</td>\n",
       "      <td>377.000000</td>\n",
       "    </tr>\n",
       "    <tr>\n",
       "      <th>mean</th>\n",
       "      <td>2017.140584</td>\n",
       "      <td>12905.448276</td>\n",
       "      <td>20959.151194</td>\n",
       "      <td>114.94695</td>\n",
       "      <td>57.718568</td>\n",
       "      <td>1.361538</td>\n",
       "    </tr>\n",
       "    <tr>\n",
       "      <th>std</th>\n",
       "      <td>1.568938</td>\n",
       "      <td>4266.983147</td>\n",
       "      <td>15082.638872</td>\n",
       "      <td>57.93657</td>\n",
       "      <td>8.954505</td>\n",
       "      <td>0.400904</td>\n",
       "    </tr>\n",
       "    <tr>\n",
       "      <th>min</th>\n",
       "      <td>2013.000000</td>\n",
       "      <td>4699.000000</td>\n",
       "      <td>7.000000</td>\n",
       "      <td>0.00000</td>\n",
       "      <td>34.400000</td>\n",
       "      <td>1.000000</td>\n",
       "    </tr>\n",
       "    <tr>\n",
       "      <th>25%</th>\n",
       "      <td>2016.000000</td>\n",
       "      <td>9698.000000</td>\n",
       "      <td>9781.000000</td>\n",
       "      <td>125.00000</td>\n",
       "      <td>53.300000</td>\n",
       "      <td>1.000000</td>\n",
       "    </tr>\n",
       "    <tr>\n",
       "      <th>50%</th>\n",
       "      <td>2017.000000</td>\n",
       "      <td>12198.000000</td>\n",
       "      <td>17028.000000</td>\n",
       "      <td>145.00000</td>\n",
       "      <td>58.900000</td>\n",
       "      <td>1.200000</td>\n",
       "    </tr>\n",
       "    <tr>\n",
       "      <th>75%</th>\n",
       "      <td>2018.000000</td>\n",
       "      <td>15984.000000</td>\n",
       "      <td>29326.000000</td>\n",
       "      <td>145.00000</td>\n",
       "      <td>64.200000</td>\n",
       "      <td>1.600000</td>\n",
       "    </tr>\n",
       "    <tr>\n",
       "      <th>max</th>\n",
       "      <td>2020.000000</td>\n",
       "      <td>34498.000000</td>\n",
       "      <td>85000.000000</td>\n",
       "      <td>240.00000</td>\n",
       "      <td>80.700000</td>\n",
       "      <td>2.300000</td>\n",
       "    </tr>\n",
       "  </tbody>\n",
       "</table>\n",
       "</div>"
      ],
      "text/plain": [
       "              year         price      distance        tax  miles per galoon  \\\n",
       "count   377.000000    377.000000    377.000000  377.00000        377.000000   \n",
       "mean   2017.140584  12905.448276  20959.151194  114.94695         57.718568   \n",
       "std       1.568938   4266.983147  15082.638872   57.93657          8.954505   \n",
       "min    2013.000000   4699.000000      7.000000    0.00000         34.400000   \n",
       "25%    2016.000000   9698.000000   9781.000000  125.00000         53.300000   \n",
       "50%    2017.000000  12198.000000  17028.000000  145.00000         58.900000   \n",
       "75%    2018.000000  15984.000000  29326.000000  145.00000         64.200000   \n",
       "max    2020.000000  34498.000000  85000.000000  240.00000         80.700000   \n",
       "\n",
       "             size  \n",
       "count  377.000000  \n",
       "mean     1.361538  \n",
       "std      0.400904  \n",
       "min      1.000000  \n",
       "25%      1.000000  \n",
       "50%      1.200000  \n",
       "75%      1.600000  \n",
       "max      2.300000  "
      ]
     },
     "execution_count": 7,
     "metadata": {},
     "output_type": "execute_result"
    }
   ],
   "source": [
    "df.describe()"
   ]
  },
  {
   "cell_type": "code",
   "execution_count": 8,
   "id": "2f06ea7c",
   "metadata": {},
   "outputs": [
    {
     "data": {
      "text/plain": [
       "Index(['model', 'year', 'price', 'type', 'distance', 'fuel', 'tax',\n",
       "       'miles per galoon', 'size'],\n",
       "      dtype='object')"
      ]
     },
     "execution_count": 8,
     "metadata": {},
     "output_type": "execute_result"
    }
   ],
   "source": [
    "df.columns"
   ]
  },
  {
   "cell_type": "code",
   "execution_count": 9,
   "id": "022e0bda",
   "metadata": {},
   "outputs": [],
   "source": [
    "df.columns = ['model', 'year', 'price', 'type', 'distance', 'fuel', 'tax',\n",
    "       'miles per galoon', 'size']"
   ]
  },
  {
   "cell_type": "code",
   "execution_count": 10,
   "id": "0a1cfac3",
   "metadata": {},
   "outputs": [],
   "source": [
    "def outliers(df):\n",
    "    num_var = list(df._get_numeric_data().columns)\n",
    "    for col_names in num_var:\n",
    "        df[col_names] = df[col_names].apply(lambda y: df[col_names].mean()-3*df[col_names].std()\n",
    "                            if y < df[col_names].mean()-3*df[col_names].std() else y)\n",
    "        df[col_names] = df[col_names].apply(lambda y: df[col_names].mean()+3*df[col_names].std()\n",
    "                            if y > df[col_names].mean()+3*df[col_names].std() else y)\n",
    "    return(df)"
   ]
  },
  {
   "cell_type": "code",
   "execution_count": 11,
   "id": "a91b19bf",
   "metadata": {},
   "outputs": [
    {
     "data": {
      "text/html": [
       "<div>\n",
       "<style scoped>\n",
       "    .dataframe tbody tr th:only-of-type {\n",
       "        vertical-align: middle;\n",
       "    }\n",
       "\n",
       "    .dataframe tbody tr th {\n",
       "        vertical-align: top;\n",
       "    }\n",
       "\n",
       "    .dataframe thead th {\n",
       "        text-align: right;\n",
       "    }\n",
       "</style>\n",
       "<table border=\"1\" class=\"dataframe\">\n",
       "  <thead>\n",
       "    <tr style=\"text-align: right;\">\n",
       "      <th></th>\n",
       "      <th>year</th>\n",
       "      <th>price</th>\n",
       "      <th>distance</th>\n",
       "      <th>tax</th>\n",
       "      <th>miles per galoon</th>\n",
       "      <th>size</th>\n",
       "    </tr>\n",
       "  </thead>\n",
       "  <tbody>\n",
       "    <tr>\n",
       "      <th>count</th>\n",
       "      <td>377.000000</td>\n",
       "      <td>377.000000</td>\n",
       "      <td>377.000000</td>\n",
       "      <td>377.00000</td>\n",
       "      <td>377.000000</td>\n",
       "      <td>377.000000</td>\n",
       "    </tr>\n",
       "    <tr>\n",
       "      <th>mean</th>\n",
       "      <td>2017.140584</td>\n",
       "      <td>12882.128376</td>\n",
       "      <td>20840.905229</td>\n",
       "      <td>114.94695</td>\n",
       "      <td>57.718568</td>\n",
       "      <td>1.361538</td>\n",
       "    </tr>\n",
       "    <tr>\n",
       "      <th>std</th>\n",
       "      <td>1.568938</td>\n",
       "      <td>4171.620044</td>\n",
       "      <td>14661.701999</td>\n",
       "      <td>57.93657</td>\n",
       "      <td>8.954505</td>\n",
       "      <td>0.400904</td>\n",
       "    </tr>\n",
       "    <tr>\n",
       "      <th>min</th>\n",
       "      <td>2013.000000</td>\n",
       "      <td>4699.000000</td>\n",
       "      <td>7.000000</td>\n",
       "      <td>0.00000</td>\n",
       "      <td>34.400000</td>\n",
       "      <td>1.000000</td>\n",
       "    </tr>\n",
       "    <tr>\n",
       "      <th>25%</th>\n",
       "      <td>2016.000000</td>\n",
       "      <td>9698.000000</td>\n",
       "      <td>9781.000000</td>\n",
       "      <td>125.00000</td>\n",
       "      <td>53.300000</td>\n",
       "      <td>1.000000</td>\n",
       "    </tr>\n",
       "    <tr>\n",
       "      <th>50%</th>\n",
       "      <td>2017.000000</td>\n",
       "      <td>12198.000000</td>\n",
       "      <td>17028.000000</td>\n",
       "      <td>145.00000</td>\n",
       "      <td>58.900000</td>\n",
       "      <td>1.200000</td>\n",
       "    </tr>\n",
       "    <tr>\n",
       "      <th>75%</th>\n",
       "      <td>2018.000000</td>\n",
       "      <td>15984.000000</td>\n",
       "      <td>29326.000000</td>\n",
       "      <td>145.00000</td>\n",
       "      <td>64.200000</td>\n",
       "      <td>1.600000</td>\n",
       "    </tr>\n",
       "    <tr>\n",
       "      <th>max</th>\n",
       "      <td>2020.000000</td>\n",
       "      <td>25706.397718</td>\n",
       "      <td>66207.067810</td>\n",
       "      <td>240.00000</td>\n",
       "      <td>80.700000</td>\n",
       "      <td>2.300000</td>\n",
       "    </tr>\n",
       "  </tbody>\n",
       "</table>\n",
       "</div>"
      ],
      "text/plain": [
       "              year         price      distance        tax  miles per galoon  \\\n",
       "count   377.000000    377.000000    377.000000  377.00000        377.000000   \n",
       "mean   2017.140584  12882.128376  20840.905229  114.94695         57.718568   \n",
       "std       1.568938   4171.620044  14661.701999   57.93657          8.954505   \n",
       "min    2013.000000   4699.000000      7.000000    0.00000         34.400000   \n",
       "25%    2016.000000   9698.000000   9781.000000  125.00000         53.300000   \n",
       "50%    2017.000000  12198.000000  17028.000000  145.00000         58.900000   \n",
       "75%    2018.000000  15984.000000  29326.000000  145.00000         64.200000   \n",
       "max    2020.000000  25706.397718  66207.067810  240.00000         80.700000   \n",
       "\n",
       "             size  \n",
       "count  377.000000  \n",
       "mean     1.361538  \n",
       "std      0.400904  \n",
       "min      1.000000  \n",
       "25%      1.000000  \n",
       "50%      1.200000  \n",
       "75%      1.600000  \n",
       "max      2.300000  "
      ]
     },
     "execution_count": 11,
     "metadata": {},
     "output_type": "execute_result"
    }
   ],
   "source": [
    "df = outliers(df)\n",
    "df.describe()"
   ]
  },
  {
   "cell_type": "code",
   "execution_count": 12,
   "id": "67fa9586",
   "metadata": {},
   "outputs": [
    {
     "data": {
      "text/plain": [
       "(377, 9)"
      ]
     },
     "execution_count": 12,
     "metadata": {},
     "output_type": "execute_result"
    }
   ],
   "source": [
    "df.shape"
   ]
  },
  {
   "cell_type": "code",
   "execution_count": 13,
   "id": "b3555fab",
   "metadata": {},
   "outputs": [
    {
     "data": {
      "text/plain": [
       "3"
      ]
     },
     "execution_count": 13,
     "metadata": {},
     "output_type": "execute_result"
    }
   ],
   "source": [
    "df['type'].nunique()"
   ]
  },
  {
   "cell_type": "code",
   "execution_count": 14,
   "id": "e93cd564",
   "metadata": {},
   "outputs": [
    {
     "name": "stdout",
     "output_type": "stream",
     "text": [
      "['Automatic' 'Manual' 'Semi-Auto']\n",
      "['Automatic' 'Manual' 'Semi-Auto']\n",
      "['Automatic' 'Manual' 'Semi-Auto']\n",
      "['Automatic' 'Manual' 'Semi-Auto']\n",
      "['Automatic' 'Manual' 'Semi-Auto']\n",
      "['Automatic' 'Manual' 'Semi-Auto']\n",
      "['Automatic' 'Manual' 'Semi-Auto']\n",
      "['Automatic' 'Manual' 'Semi-Auto']\n",
      "['Automatic' 'Manual' 'Semi-Auto']\n"
     ]
    }
   ],
   "source": [
    "for col in df:\n",
    "    print(df['type'].unique())"
   ]
  },
  {
   "cell_type": "code",
   "execution_count": 15,
   "id": "7fc2d5a7",
   "metadata": {},
   "outputs": [
    {
     "data": {
      "text/html": [
       "<div>\n",
       "<style scoped>\n",
       "    .dataframe tbody tr th:only-of-type {\n",
       "        vertical-align: middle;\n",
       "    }\n",
       "\n",
       "    .dataframe tbody tr th {\n",
       "        vertical-align: top;\n",
       "    }\n",
       "\n",
       "    .dataframe thead th {\n",
       "        text-align: right;\n",
       "    }\n",
       "</style>\n",
       "<table border=\"1\" class=\"dataframe\">\n",
       "  <thead>\n",
       "    <tr style=\"text-align: right;\">\n",
       "      <th></th>\n",
       "      <th>model</th>\n",
       "      <th>year</th>\n",
       "      <th>price</th>\n",
       "      <th>type</th>\n",
       "      <th>distance</th>\n",
       "      <th>fuel</th>\n",
       "      <th>tax</th>\n",
       "      <th>miles per galoon</th>\n",
       "      <th>size</th>\n",
       "    </tr>\n",
       "  </thead>\n",
       "  <tbody>\n",
       "    <tr>\n",
       "      <th>0</th>\n",
       "      <td>Fiesta</td>\n",
       "      <td>2017</td>\n",
       "      <td>12000.0</td>\n",
       "      <td>0</td>\n",
       "      <td>15944.0</td>\n",
       "      <td>Petrol</td>\n",
       "      <td>150</td>\n",
       "      <td>57.7</td>\n",
       "      <td>1.0</td>\n",
       "    </tr>\n",
       "    <tr>\n",
       "      <th>1</th>\n",
       "      <td>Focus</td>\n",
       "      <td>2015</td>\n",
       "      <td>7830.0</td>\n",
       "      <td>1</td>\n",
       "      <td>50124.0</td>\n",
       "      <td>Diesel</td>\n",
       "      <td>0</td>\n",
       "      <td>74.3</td>\n",
       "      <td>1.5</td>\n",
       "    </tr>\n",
       "    <tr>\n",
       "      <th>2</th>\n",
       "      <td>Fiesta</td>\n",
       "      <td>2016</td>\n",
       "      <td>10798.0</td>\n",
       "      <td>1</td>\n",
       "      <td>11843.0</td>\n",
       "      <td>Petrol</td>\n",
       "      <td>0</td>\n",
       "      <td>65.7</td>\n",
       "      <td>1.0</td>\n",
       "    </tr>\n",
       "    <tr>\n",
       "      <th>3</th>\n",
       "      <td>Focus</td>\n",
       "      <td>2019</td>\n",
       "      <td>15495.0</td>\n",
       "      <td>1</td>\n",
       "      <td>5600.0</td>\n",
       "      <td>Petrol</td>\n",
       "      <td>145</td>\n",
       "      <td>60.1</td>\n",
       "      <td>1.0</td>\n",
       "    </tr>\n",
       "    <tr>\n",
       "      <th>4</th>\n",
       "      <td>B-MAX</td>\n",
       "      <td>2013</td>\n",
       "      <td>5698.0</td>\n",
       "      <td>1</td>\n",
       "      <td>44901.0</td>\n",
       "      <td>Petrol</td>\n",
       "      <td>145</td>\n",
       "      <td>47.1</td>\n",
       "      <td>1.4</td>\n",
       "    </tr>\n",
       "  </tbody>\n",
       "</table>\n",
       "</div>"
      ],
      "text/plain": [
       "    model  year    price  type  distance    fuel  tax  miles per galoon  size\n",
       "0  Fiesta  2017  12000.0     0   15944.0  Petrol  150              57.7   1.0\n",
       "1   Focus  2015   7830.0     1   50124.0  Diesel    0              74.3   1.5\n",
       "2  Fiesta  2016  10798.0     1   11843.0  Petrol    0              65.7   1.0\n",
       "3   Focus  2019  15495.0     1    5600.0  Petrol  145              60.1   1.0\n",
       "4   B-MAX  2013   5698.0     1   44901.0  Petrol  145              47.1   1.4"
      ]
     },
     "execution_count": 15,
     "metadata": {},
     "output_type": "execute_result"
    }
   ],
   "source": [
    "#encoding transmission\n",
    "from sklearn import preprocessing\n",
    "df['type'] = preprocessing.LabelEncoder().fit_transform(df['type'])\n",
    "df.head(5)"
   ]
  },
  {
   "cell_type": "markdown",
   "id": "3bc4261b",
   "metadata": {},
   "source": [
    "К числовому формату привели фактор type"
   ]
  },
  {
   "cell_type": "code",
   "execution_count": 16,
   "id": "14520544",
   "metadata": {},
   "outputs": [
    {
     "data": {
      "text/plain": [
       "3"
      ]
     },
     "execution_count": 16,
     "metadata": {},
     "output_type": "execute_result"
    }
   ],
   "source": [
    "df['fuel'].nunique()"
   ]
  },
  {
   "cell_type": "code",
   "execution_count": 17,
   "id": "1b30a919",
   "metadata": {},
   "outputs": [
    {
     "name": "stdout",
     "output_type": "stream",
     "text": [
      "['Petrol' 'Diesel' 'Hybrid']\n",
      "['Petrol' 'Diesel' 'Hybrid']\n",
      "['Petrol' 'Diesel' 'Hybrid']\n",
      "['Petrol' 'Diesel' 'Hybrid']\n",
      "['Petrol' 'Diesel' 'Hybrid']\n",
      "['Petrol' 'Diesel' 'Hybrid']\n",
      "['Petrol' 'Diesel' 'Hybrid']\n",
      "['Petrol' 'Diesel' 'Hybrid']\n",
      "['Petrol' 'Diesel' 'Hybrid']\n"
     ]
    }
   ],
   "source": [
    "for col in df:\n",
    "    print(df['fuel'].unique())"
   ]
  },
  {
   "cell_type": "code",
   "execution_count": 18,
   "id": "30b77097",
   "metadata": {},
   "outputs": [
    {
     "data": {
      "text/html": [
       "<div>\n",
       "<style scoped>\n",
       "    .dataframe tbody tr th:only-of-type {\n",
       "        vertical-align: middle;\n",
       "    }\n",
       "\n",
       "    .dataframe tbody tr th {\n",
       "        vertical-align: top;\n",
       "    }\n",
       "\n",
       "    .dataframe thead th {\n",
       "        text-align: right;\n",
       "    }\n",
       "</style>\n",
       "<table border=\"1\" class=\"dataframe\">\n",
       "  <thead>\n",
       "    <tr style=\"text-align: right;\">\n",
       "      <th></th>\n",
       "      <th>model</th>\n",
       "      <th>year</th>\n",
       "      <th>price</th>\n",
       "      <th>type</th>\n",
       "      <th>distance</th>\n",
       "      <th>fuel</th>\n",
       "      <th>tax</th>\n",
       "      <th>miles per galoon</th>\n",
       "      <th>size</th>\n",
       "    </tr>\n",
       "  </thead>\n",
       "  <tbody>\n",
       "    <tr>\n",
       "      <th>0</th>\n",
       "      <td>Fiesta</td>\n",
       "      <td>2017</td>\n",
       "      <td>12000.0</td>\n",
       "      <td>0</td>\n",
       "      <td>15944.0</td>\n",
       "      <td>2</td>\n",
       "      <td>150</td>\n",
       "      <td>57.7</td>\n",
       "      <td>1.0</td>\n",
       "    </tr>\n",
       "    <tr>\n",
       "      <th>1</th>\n",
       "      <td>Focus</td>\n",
       "      <td>2015</td>\n",
       "      <td>7830.0</td>\n",
       "      <td>1</td>\n",
       "      <td>50124.0</td>\n",
       "      <td>0</td>\n",
       "      <td>0</td>\n",
       "      <td>74.3</td>\n",
       "      <td>1.5</td>\n",
       "    </tr>\n",
       "    <tr>\n",
       "      <th>2</th>\n",
       "      <td>Fiesta</td>\n",
       "      <td>2016</td>\n",
       "      <td>10798.0</td>\n",
       "      <td>1</td>\n",
       "      <td>11843.0</td>\n",
       "      <td>2</td>\n",
       "      <td>0</td>\n",
       "      <td>65.7</td>\n",
       "      <td>1.0</td>\n",
       "    </tr>\n",
       "    <tr>\n",
       "      <th>3</th>\n",
       "      <td>Focus</td>\n",
       "      <td>2019</td>\n",
       "      <td>15495.0</td>\n",
       "      <td>1</td>\n",
       "      <td>5600.0</td>\n",
       "      <td>2</td>\n",
       "      <td>145</td>\n",
       "      <td>60.1</td>\n",
       "      <td>1.0</td>\n",
       "    </tr>\n",
       "    <tr>\n",
       "      <th>4</th>\n",
       "      <td>B-MAX</td>\n",
       "      <td>2013</td>\n",
       "      <td>5698.0</td>\n",
       "      <td>1</td>\n",
       "      <td>44901.0</td>\n",
       "      <td>2</td>\n",
       "      <td>145</td>\n",
       "      <td>47.1</td>\n",
       "      <td>1.4</td>\n",
       "    </tr>\n",
       "  </tbody>\n",
       "</table>\n",
       "</div>"
      ],
      "text/plain": [
       "    model  year    price  type  distance  fuel  tax  miles per galoon  size\n",
       "0  Fiesta  2017  12000.0     0   15944.0     2  150              57.7   1.0\n",
       "1   Focus  2015   7830.0     1   50124.0     0    0              74.3   1.5\n",
       "2  Fiesta  2016  10798.0     1   11843.0     2    0              65.7   1.0\n",
       "3   Focus  2019  15495.0     1    5600.0     2  145              60.1   1.0\n",
       "4   B-MAX  2013   5698.0     1   44901.0     2  145              47.1   1.4"
      ]
     },
     "execution_count": 18,
     "metadata": {},
     "output_type": "execute_result"
    }
   ],
   "source": [
    "#encoding fuel\n",
    "from sklearn import preprocessing\n",
    "df['fuel'] = preprocessing.LabelEncoder().fit_transform(df['fuel'])\n",
    "df.head(5)"
   ]
  },
  {
   "cell_type": "markdown",
   "id": "0b935054",
   "metadata": {},
   "source": [
    "К числовому формату привели фактор fuel"
   ]
  },
  {
   "cell_type": "code",
   "execution_count": 19,
   "id": "790fe695",
   "metadata": {},
   "outputs": [
    {
     "data": {
      "text/plain": [
       "17"
      ]
     },
     "execution_count": 19,
     "metadata": {},
     "output_type": "execute_result"
    }
   ],
   "source": [
    "df['model'].nunique()"
   ]
  },
  {
   "cell_type": "code",
   "execution_count": 20,
   "id": "065a9970",
   "metadata": {},
   "outputs": [
    {
     "name": "stdout",
     "output_type": "stream",
     "text": [
      "['Fiesta' 'Focus' 'B-MAX' 'Kuga' 'EcoSport' 'C-MAX' 'Ka+' 'S-MAX' 'Edge'\n",
      " 'Mondeo' 'Grand Tourneo Connect' 'Galaxy' 'Tourneo Connect' 'Grand C-MAX'\n",
      " 'Tourneo Custom' 'Puma' 'KA']\n",
      "['Fiesta' 'Focus' 'B-MAX' 'Kuga' 'EcoSport' 'C-MAX' 'Ka+' 'S-MAX' 'Edge'\n",
      " 'Mondeo' 'Grand Tourneo Connect' 'Galaxy' 'Tourneo Connect' 'Grand C-MAX'\n",
      " 'Tourneo Custom' 'Puma' 'KA']\n",
      "['Fiesta' 'Focus' 'B-MAX' 'Kuga' 'EcoSport' 'C-MAX' 'Ka+' 'S-MAX' 'Edge'\n",
      " 'Mondeo' 'Grand Tourneo Connect' 'Galaxy' 'Tourneo Connect' 'Grand C-MAX'\n",
      " 'Tourneo Custom' 'Puma' 'KA']\n",
      "['Fiesta' 'Focus' 'B-MAX' 'Kuga' 'EcoSport' 'C-MAX' 'Ka+' 'S-MAX' 'Edge'\n",
      " 'Mondeo' 'Grand Tourneo Connect' 'Galaxy' 'Tourneo Connect' 'Grand C-MAX'\n",
      " 'Tourneo Custom' 'Puma' 'KA']\n",
      "['Fiesta' 'Focus' 'B-MAX' 'Kuga' 'EcoSport' 'C-MAX' 'Ka+' 'S-MAX' 'Edge'\n",
      " 'Mondeo' 'Grand Tourneo Connect' 'Galaxy' 'Tourneo Connect' 'Grand C-MAX'\n",
      " 'Tourneo Custom' 'Puma' 'KA']\n",
      "['Fiesta' 'Focus' 'B-MAX' 'Kuga' 'EcoSport' 'C-MAX' 'Ka+' 'S-MAX' 'Edge'\n",
      " 'Mondeo' 'Grand Tourneo Connect' 'Galaxy' 'Tourneo Connect' 'Grand C-MAX'\n",
      " 'Tourneo Custom' 'Puma' 'KA']\n",
      "['Fiesta' 'Focus' 'B-MAX' 'Kuga' 'EcoSport' 'C-MAX' 'Ka+' 'S-MAX' 'Edge'\n",
      " 'Mondeo' 'Grand Tourneo Connect' 'Galaxy' 'Tourneo Connect' 'Grand C-MAX'\n",
      " 'Tourneo Custom' 'Puma' 'KA']\n",
      "['Fiesta' 'Focus' 'B-MAX' 'Kuga' 'EcoSport' 'C-MAX' 'Ka+' 'S-MAX' 'Edge'\n",
      " 'Mondeo' 'Grand Tourneo Connect' 'Galaxy' 'Tourneo Connect' 'Grand C-MAX'\n",
      " 'Tourneo Custom' 'Puma' 'KA']\n",
      "['Fiesta' 'Focus' 'B-MAX' 'Kuga' 'EcoSport' 'C-MAX' 'Ka+' 'S-MAX' 'Edge'\n",
      " 'Mondeo' 'Grand Tourneo Connect' 'Galaxy' 'Tourneo Connect' 'Grand C-MAX'\n",
      " 'Tourneo Custom' 'Puma' 'KA']\n"
     ]
    }
   ],
   "source": [
    "for col in df:\n",
    "    print(df['model'].unique())"
   ]
  },
  {
   "cell_type": "code",
   "execution_count": 21,
   "id": "614f7610",
   "metadata": {},
   "outputs": [
    {
     "data": {
      "text/html": [
       "<div>\n",
       "<style scoped>\n",
       "    .dataframe tbody tr th:only-of-type {\n",
       "        vertical-align: middle;\n",
       "    }\n",
       "\n",
       "    .dataframe tbody tr th {\n",
       "        vertical-align: top;\n",
       "    }\n",
       "\n",
       "    .dataframe thead th {\n",
       "        text-align: right;\n",
       "    }\n",
       "</style>\n",
       "<table border=\"1\" class=\"dataframe\">\n",
       "  <thead>\n",
       "    <tr style=\"text-align: right;\">\n",
       "      <th></th>\n",
       "      <th>model</th>\n",
       "      <th>year</th>\n",
       "      <th>price</th>\n",
       "      <th>type</th>\n",
       "      <th>distance</th>\n",
       "      <th>fuel</th>\n",
       "      <th>tax</th>\n",
       "      <th>miles per galoon</th>\n",
       "      <th>size</th>\n",
       "    </tr>\n",
       "  </thead>\n",
       "  <tbody>\n",
       "    <tr>\n",
       "      <th>0</th>\n",
       "      <td>4</td>\n",
       "      <td>2017</td>\n",
       "      <td>12000.0</td>\n",
       "      <td>0</td>\n",
       "      <td>15944.0</td>\n",
       "      <td>2</td>\n",
       "      <td>150</td>\n",
       "      <td>57.7</td>\n",
       "      <td>1.0</td>\n",
       "    </tr>\n",
       "    <tr>\n",
       "      <th>1</th>\n",
       "      <td>5</td>\n",
       "      <td>2015</td>\n",
       "      <td>7830.0</td>\n",
       "      <td>1</td>\n",
       "      <td>50124.0</td>\n",
       "      <td>0</td>\n",
       "      <td>0</td>\n",
       "      <td>74.3</td>\n",
       "      <td>1.5</td>\n",
       "    </tr>\n",
       "    <tr>\n",
       "      <th>2</th>\n",
       "      <td>4</td>\n",
       "      <td>2016</td>\n",
       "      <td>10798.0</td>\n",
       "      <td>1</td>\n",
       "      <td>11843.0</td>\n",
       "      <td>2</td>\n",
       "      <td>0</td>\n",
       "      <td>65.7</td>\n",
       "      <td>1.0</td>\n",
       "    </tr>\n",
       "    <tr>\n",
       "      <th>3</th>\n",
       "      <td>5</td>\n",
       "      <td>2019</td>\n",
       "      <td>15495.0</td>\n",
       "      <td>1</td>\n",
       "      <td>5600.0</td>\n",
       "      <td>2</td>\n",
       "      <td>145</td>\n",
       "      <td>60.1</td>\n",
       "      <td>1.0</td>\n",
       "    </tr>\n",
       "    <tr>\n",
       "      <th>4</th>\n",
       "      <td>0</td>\n",
       "      <td>2013</td>\n",
       "      <td>5698.0</td>\n",
       "      <td>1</td>\n",
       "      <td>44901.0</td>\n",
       "      <td>2</td>\n",
       "      <td>145</td>\n",
       "      <td>47.1</td>\n",
       "      <td>1.4</td>\n",
       "    </tr>\n",
       "    <tr>\n",
       "      <th>5</th>\n",
       "      <td>5</td>\n",
       "      <td>2019</td>\n",
       "      <td>14799.0</td>\n",
       "      <td>1</td>\n",
       "      <td>6249.0</td>\n",
       "      <td>2</td>\n",
       "      <td>145</td>\n",
       "      <td>60.1</td>\n",
       "      <td>1.0</td>\n",
       "    </tr>\n",
       "    <tr>\n",
       "      <th>6</th>\n",
       "      <td>5</td>\n",
       "      <td>2019</td>\n",
       "      <td>17498.0</td>\n",
       "      <td>1</td>\n",
       "      <td>2714.0</td>\n",
       "      <td>2</td>\n",
       "      <td>150</td>\n",
       "      <td>49.6</td>\n",
       "      <td>1.0</td>\n",
       "    </tr>\n",
       "    <tr>\n",
       "      <th>7</th>\n",
       "      <td>4</td>\n",
       "      <td>2016</td>\n",
       "      <td>9998.0</td>\n",
       "      <td>1</td>\n",
       "      <td>6820.0</td>\n",
       "      <td>2</td>\n",
       "      <td>0</td>\n",
       "      <td>65.7</td>\n",
       "      <td>1.0</td>\n",
       "    </tr>\n",
       "    <tr>\n",
       "      <th>8</th>\n",
       "      <td>11</td>\n",
       "      <td>2017</td>\n",
       "      <td>16998.0</td>\n",
       "      <td>1</td>\n",
       "      <td>13626.0</td>\n",
       "      <td>0</td>\n",
       "      <td>125</td>\n",
       "      <td>60.1</td>\n",
       "      <td>2.0</td>\n",
       "    </tr>\n",
       "    <tr>\n",
       "      <th>9</th>\n",
       "      <td>11</td>\n",
       "      <td>2017</td>\n",
       "      <td>16200.0</td>\n",
       "      <td>2</td>\n",
       "      <td>23027.0</td>\n",
       "      <td>0</td>\n",
       "      <td>145</td>\n",
       "      <td>58.9</td>\n",
       "      <td>1.5</td>\n",
       "    </tr>\n",
       "  </tbody>\n",
       "</table>\n",
       "</div>"
      ],
      "text/plain": [
       "   model  year    price  type  distance  fuel  tax  miles per galoon  size\n",
       "0      4  2017  12000.0     0   15944.0     2  150              57.7   1.0\n",
       "1      5  2015   7830.0     1   50124.0     0    0              74.3   1.5\n",
       "2      4  2016  10798.0     1   11843.0     2    0              65.7   1.0\n",
       "3      5  2019  15495.0     1    5600.0     2  145              60.1   1.0\n",
       "4      0  2013   5698.0     1   44901.0     2  145              47.1   1.4\n",
       "5      5  2019  14799.0     1    6249.0     2  145              60.1   1.0\n",
       "6      5  2019  17498.0     1    2714.0     2  150              49.6   1.0\n",
       "7      4  2016   9998.0     1    6820.0     2    0              65.7   1.0\n",
       "8     11  2017  16998.0     1   13626.0     0  125              60.1   2.0\n",
       "9     11  2017  16200.0     2   23027.0     0  145              58.9   1.5"
      ]
     },
     "execution_count": 21,
     "metadata": {},
     "output_type": "execute_result"
    }
   ],
   "source": [
    "#encoding body\n",
    "from sklearn import preprocessing\n",
    "df['model'] = preprocessing.LabelEncoder().fit_transform(df['model'])\n",
    "df.head(10)"
   ]
  },
  {
   "cell_type": "markdown",
   "id": "2e15b1d3",
   "metadata": {},
   "source": [
    "К числовому формату привели фактор model"
   ]
  },
  {
   "cell_type": "code",
   "execution_count": 22,
   "id": "358c7eb5",
   "metadata": {},
   "outputs": [
    {
     "data": {
      "text/plain": [
       "model                 int32\n",
       "year                  int64\n",
       "price               float64\n",
       "type                  int32\n",
       "distance            float64\n",
       "fuel                  int32\n",
       "tax                   int64\n",
       "miles per galoon    float64\n",
       "size                float64\n",
       "dtype: object"
      ]
     },
     "execution_count": 22,
     "metadata": {},
     "output_type": "execute_result"
    }
   ],
   "source": [
    "df.dtypes"
   ]
  },
  {
   "cell_type": "markdown",
   "id": "5077430f",
   "metadata": {},
   "source": [
    "# Визуализация факторов"
   ]
  },
  {
   "cell_type": "code",
   "execution_count": 23,
   "id": "e8ff54ee",
   "metadata": {},
   "outputs": [
    {
     "data": {
      "text/plain": [
       "<AxesSubplot:ylabel='Frequency'>"
      ]
     },
     "execution_count": 23,
     "metadata": {},
     "output_type": "execute_result"
    },
    {
     "data": {
      "image/png": "[encoded data removed]",
      "text/plain": [
       "<Figure size 432x288 with 1 Axes>"
      ]
     },
     "metadata": {
      "needs_background": "light"
     },
     "output_type": "display_data"
    }
   ],
   "source": [
    "df['price'].plot(kind = 'hist')"
   ]
  },
  {
   "cell_type": "markdown",
   "id": "9eb2a9b2",
   "metadata": {},
   "source": [
    "Для большиства моделей цена варьируется от 7.5 до 15 тыс. у.е."
   ]
  },
  {
   "cell_type": "code",
   "execution_count": 24,
   "id": "1066394a",
   "metadata": {},
   "outputs": [
    {
     "data": {
      "text/plain": [
       "<AxesSubplot:ylabel='Frequency'>"
      ]
     },
     "execution_count": 24,
     "metadata": {},
     "output_type": "execute_result"
    },
    {
     "data": {
      "image/png": "[encoded data removed]",
      "text/plain": [
       "<Figure size 432x288 with 1 Axes>"
      ]
     },
     "metadata": {
      "needs_background": "light"
     },
     "output_type": "display_data"
    }
   ],
   "source": [
    "df['year'].plot(kind = 'hist')"
   ]
  },
  {
   "cell_type": "markdown",
   "id": "6e967b71",
   "metadata": {},
   "source": [
    "Большинство моделей 2017 года выпуска"
   ]
  },
  {
   "cell_type": "code",
   "execution_count": 26,
   "id": "d3459ce8",
   "metadata": {},
   "outputs": [
    {
     "data": {
      "text/plain": [
       "<AxesSubplot:ylabel='Frequency'>"
      ]
     },
     "execution_count": 26,
     "metadata": {},
     "output_type": "execute_result"
    },
    {
     "data": {
      "image/png": "[encoded data removed]",
      "text/plain": [
       "<Figure size 432x288 with 1 Axes>"
      ]
     },
     "metadata": {
      "needs_background": "light"
     },
     "output_type": "display_data"
    }
   ],
   "source": [
    "df['model'].plot(kind = 'hist')"
   ]
  },
  {
   "cell_type": "markdown",
   "id": "867fcd10",
   "metadata": {},
   "source": [
    "Самая распространенная модель Kuga"
   ]
  },
  {
   "cell_type": "code",
   "execution_count": 27,
   "id": "c6f22ec9",
   "metadata": {},
   "outputs": [
    {
     "data": {
      "text/plain": [
       "<AxesSubplot:ylabel='Frequency'>"
      ]
     },
     "execution_count": 27,
     "metadata": {},
     "output_type": "execute_result"
    },
    {
     "data": {
      "image/png": "[encoded data removed]",
      "text/plain": [
       "<Figure size 432x288 with 1 Axes>"
      ]
     },
     "metadata": {
      "needs_background": "light"
     },
     "output_type": "display_data"
    }
   ],
   "source": [
    "df['type'].plot(kind = 'hist')"
   ]
  },
  {
   "cell_type": "markdown",
   "id": "dcbdafce",
   "metadata": {},
   "source": [
    "Самая распространенная коробка передач - Manual"
   ]
  },
  {
   "cell_type": "code",
   "execution_count": 28,
   "id": "d542cb6e",
   "metadata": {},
   "outputs": [
    {
     "data": {
      "text/plain": [
       "<AxesSubplot:ylabel='Frequency'>"
      ]
     },
     "execution_count": 28,
     "metadata": {},
     "output_type": "execute_result"
    },
    {
     "data": {
      "image/png": "[encoded data removed]",
      "text/plain": [
       "<Figure size 432x288 with 1 Axes>"
      ]
     },
     "metadata": {
      "needs_background": "light"
     },
     "output_type": "display_data"
    }
   ],
   "source": [
    "df['distance'].plot(kind = 'hist')"
   ]
  },
  {
   "cell_type": "markdown",
   "id": "d0e0a4a5",
   "metadata": {},
   "source": [
    "Большинство автомобилей имеют пробег до 35 тыс. км"
   ]
  },
  {
   "cell_type": "code",
   "execution_count": 29,
   "id": "a5ba4079",
   "metadata": {},
   "outputs": [
    {
     "data": {
      "text/plain": [
       "<AxesSubplot:ylabel='Frequency'>"
      ]
     },
     "execution_count": 29,
     "metadata": {},
     "output_type": "execute_result"
    },
    {
     "data": {
      "image/png": "[encoded data removed]",
      "text/plain": [
       "<Figure size 432x288 with 1 Axes>"
      ]
     },
     "metadata": {
      "needs_background": "light"
     },
     "output_type": "display_data"
    }
   ],
   "source": [
    "df['tax'].plot(kind = 'hist')"
   ]
  },
  {
   "cell_type": "markdown",
   "id": "715c6c7d",
   "metadata": {},
   "source": [
    "реимущественное большиство моделей выборки имеют налог 150-175 у.е."
   ]
  },
  {
   "cell_type": "code",
   "execution_count": 30,
   "id": "f28de44c",
   "metadata": {},
   "outputs": [
    {
     "data": {
      "text/plain": [
       "<AxesSubplot:ylabel='Frequency'>"
      ]
     },
     "execution_count": 30,
     "metadata": {},
     "output_type": "execute_result"
    },
    {
     "data": {
      "image/png": "[encoded data removed]",
      "text/plain": [
       "<Figure size 432x288 with 1 Axes>"
      ]
     },
     "metadata": {
      "needs_background": "light"
     },
     "output_type": "display_data"
    }
   ],
   "source": [
    "df['miles per galoon'].plot(kind = 'hist')"
   ]
  },
  {
   "cell_type": "markdown",
   "id": "3af626e2",
   "metadata": {},
   "source": [
    "78 моделей имеют расход топлива 55-65 миль на галлон"
   ]
  },
  {
   "cell_type": "code",
   "execution_count": 31,
   "id": "5bddb9ad",
   "metadata": {},
   "outputs": [
    {
     "data": {
      "text/plain": [
       "<AxesSubplot:ylabel='Frequency'>"
      ]
     },
     "execution_count": 31,
     "metadata": {},
     "output_type": "execute_result"
    },
    {
     "data": {
      "image/png": "[encoded data removed]",
      "text/plain": [
       "<Figure size 432x288 with 1 Axes>"
      ]
     },
     "metadata": {
      "needs_background": "light"
     },
     "output_type": "display_data"
    }
   ],
   "source": [
    "df['size'].plot(kind = 'hist')"
   ]
  },
  {
   "cell_type": "markdown",
   "id": "f64487d9",
   "metadata": {},
   "source": [
    "Самый распространенный объем двигателя - 1.0 л"
   ]
  },
  {
   "cell_type": "code",
   "execution_count": 33,
   "id": "647311a2",
   "metadata": {},
   "outputs": [],
   "source": [
    "df.to_csv('ford1.csv', sep=',', index=False)"
   ]
  },
  {
   "cell_type": "code",
   "execution_count": 34,
   "id": "648f1c15",
   "metadata": {},
   "outputs": [
    {
     "data": {
      "image/png": "[encoded data removed]",
      "text/plain": [
       "<Figure size 864x648 with 2 Axes>"
      ]
     },
     "metadata": {
      "needs_background": "light"
     },
     "output_type": "display_data"
    }
   ],
   "source": [
    "import seaborn as sns\n",
    "corrmat = df.corr()\n",
    "f, ax = plt.subplots(figsize=(12, 9))\n",
    "sns.heatmap(corrmat, annot=True)\n",
    "plt.show()"
   ]
  },
  {
   "cell_type": "markdown",
   "id": "7b357e12",
   "metadata": {},
   "source": [
    "Наибольшая корреляция между факторами Цена и Год"
   ]
  },
  {
   "cell_type": "code",
   "execution_count": 36,
   "id": "3f72c4a4",
   "metadata": {},
   "outputs": [
    {
     "data": {
      "text/html": [
       "<div>\n",
       "<style scoped>\n",
       "    .dataframe tbody tr th:only-of-type {\n",
       "        vertical-align: middle;\n",
       "    }\n",
       "\n",
       "    .dataframe tbody tr th {\n",
       "        vertical-align: top;\n",
       "    }\n",
       "\n",
       "    .dataframe thead th {\n",
       "        text-align: right;\n",
       "    }\n",
       "</style>\n",
       "<table border=\"1\" class=\"dataframe\">\n",
       "  <thead>\n",
       "    <tr style=\"text-align: right;\">\n",
       "      <th></th>\n",
       "      <th>model</th>\n",
       "      <th>year</th>\n",
       "      <th>price</th>\n",
       "      <th>type</th>\n",
       "      <th>distance</th>\n",
       "      <th>fuel</th>\n",
       "      <th>tax</th>\n",
       "      <th>miles per galoon</th>\n",
       "      <th>size</th>\n",
       "    </tr>\n",
       "  </thead>\n",
       "  <tbody>\n",
       "    <tr>\n",
       "      <th>count</th>\n",
       "      <td>377.000000</td>\n",
       "      <td>377.000000</td>\n",
       "      <td>377.000000</td>\n",
       "      <td>377.000000</td>\n",
       "      <td>377.000000</td>\n",
       "      <td>377.000000</td>\n",
       "      <td>377.00000</td>\n",
       "      <td>377.000000</td>\n",
       "      <td>377.000000</td>\n",
       "    </tr>\n",
       "    <tr>\n",
       "      <th>mean</th>\n",
       "      <td>5.687003</td>\n",
       "      <td>2017.140584</td>\n",
       "      <td>12882.128376</td>\n",
       "      <td>1.029178</td>\n",
       "      <td>20840.905229</td>\n",
       "      <td>1.286472</td>\n",
       "      <td>114.94695</td>\n",
       "      <td>57.718568</td>\n",
       "      <td>1.361538</td>\n",
       "    </tr>\n",
       "    <tr>\n",
       "      <th>std</th>\n",
       "      <td>3.501924</td>\n",
       "      <td>1.568938</td>\n",
       "      <td>4171.620044</td>\n",
       "      <td>0.344713</td>\n",
       "      <td>14661.701999</td>\n",
       "      <td>0.957975</td>\n",
       "      <td>57.93657</td>\n",
       "      <td>8.954505</td>\n",
       "      <td>0.400904</td>\n",
       "    </tr>\n",
       "    <tr>\n",
       "      <th>min</th>\n",
       "      <td>0.000000</td>\n",
       "      <td>2013.000000</td>\n",
       "      <td>4699.000000</td>\n",
       "      <td>0.000000</td>\n",
       "      <td>7.000000</td>\n",
       "      <td>0.000000</td>\n",
       "      <td>0.00000</td>\n",
       "      <td>34.400000</td>\n",
       "      <td>1.000000</td>\n",
       "    </tr>\n",
       "    <tr>\n",
       "      <th>25%</th>\n",
       "      <td>4.000000</td>\n",
       "      <td>2016.000000</td>\n",
       "      <td>9698.000000</td>\n",
       "      <td>1.000000</td>\n",
       "      <td>9781.000000</td>\n",
       "      <td>0.000000</td>\n",
       "      <td>125.00000</td>\n",
       "      <td>53.300000</td>\n",
       "      <td>1.000000</td>\n",
       "    </tr>\n",
       "    <tr>\n",
       "      <th>50%</th>\n",
       "      <td>5.000000</td>\n",
       "      <td>2017.000000</td>\n",
       "      <td>12198.000000</td>\n",
       "      <td>1.000000</td>\n",
       "      <td>17028.000000</td>\n",
       "      <td>2.000000</td>\n",
       "      <td>145.00000</td>\n",
       "      <td>58.900000</td>\n",
       "      <td>1.200000</td>\n",
       "    </tr>\n",
       "    <tr>\n",
       "      <th>75%</th>\n",
       "      <td>7.000000</td>\n",
       "      <td>2018.000000</td>\n",
       "      <td>15984.000000</td>\n",
       "      <td>1.000000</td>\n",
       "      <td>29326.000000</td>\n",
       "      <td>2.000000</td>\n",
       "      <td>145.00000</td>\n",
       "      <td>64.200000</td>\n",
       "      <td>1.600000</td>\n",
       "    </tr>\n",
       "    <tr>\n",
       "      <th>max</th>\n",
       "      <td>16.000000</td>\n",
       "      <td>2020.000000</td>\n",
       "      <td>25706.397718</td>\n",
       "      <td>2.000000</td>\n",
       "      <td>66207.067810</td>\n",
       "      <td>2.000000</td>\n",
       "      <td>240.00000</td>\n",
       "      <td>80.700000</td>\n",
       "      <td>2.300000</td>\n",
       "    </tr>\n",
       "  </tbody>\n",
       "</table>\n",
       "</div>"
      ],
      "text/plain": [
       "            model         year         price        type      distance  \\\n",
       "count  377.000000   377.000000    377.000000  377.000000    377.000000   \n",
       "mean     5.687003  2017.140584  12882.128376    1.029178  20840.905229   \n",
       "std      3.501924     1.568938   4171.620044    0.344713  14661.701999   \n",
       "min      0.000000  2013.000000   4699.000000    0.000000      7.000000   \n",
       "25%      4.000000  2016.000000   9698.000000    1.000000   9781.000000   \n",
       "50%      5.000000  2017.000000  12198.000000    1.000000  17028.000000   \n",
       "75%      7.000000  2018.000000  15984.000000    1.000000  29326.000000   \n",
       "max     16.000000  2020.000000  25706.397718    2.000000  66207.067810   \n",
       "\n",
       "             fuel        tax  miles per galoon        size  \n",
       "count  377.000000  377.00000        377.000000  377.000000  \n",
       "mean     1.286472  114.94695         57.718568    1.361538  \n",
       "std      0.957975   57.93657          8.954505    0.400904  \n",
       "min      0.000000    0.00000         34.400000    1.000000  \n",
       "25%      0.000000  125.00000         53.300000    1.000000  \n",
       "50%      2.000000  145.00000         58.900000    1.200000  \n",
       "75%      2.000000  145.00000         64.200000    1.600000  \n",
       "max      2.000000  240.00000         80.700000    2.300000  "
      ]
     },
     "execution_count": 36,
     "metadata": {},
     "output_type": "execute_result"
    }
   ],
   "source": [
    "df.describe()"
   ]
  },
  {
   "cell_type": "code",
   "execution_count": null,
   "id": "c96d670c",
   "metadata": {},
   "outputs": [],
   "source": []
  }
 ],
 "metadata": {
  "kernelspec": {
   "display_name": "Python 3",
   "language": "python",
   "name": "python3"
  },
  "language_info": {
   "codemirror_mode": {
    "name": "ipython",
    "version": 3
   },
   "file_extension": ".py",
   "mimetype": "text/x-python",
   "name": "python",
   "nbconvert_exporter": "python",
   "pygments_lexer": "ipython3",
   "version": "3.8.8"
  }
 },
 "nbformat": 4,
 "nbformat_minor": 5
}
